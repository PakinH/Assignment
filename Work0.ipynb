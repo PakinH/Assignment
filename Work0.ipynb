{
  "nbformat": 4,
  "nbformat_minor": 0,
  "metadata": {
    "colab": {
      "provenance": [],
      "authorship_tag": "ABX9TyONda1amQuHf1yfUCs/oqTP",
      "include_colab_link": true
    },
    "kernelspec": {
      "name": "python3",
      "display_name": "Python 3"
    },
    "language_info": {
      "name": "python"
    }
  },
  "cells": [
    {
      "cell_type": "markdown",
      "metadata": {
        "id": "view-in-github",
        "colab_type": "text"
      },
      "source": [
        "<a href=\"https://colab.research.google.com/github/PakinH/Assignment/blob/main/Work0.ipynb\" target=\"_parent\"><img src=\"https://colab.research.google.com/assets/colab-badge.svg\" alt=\"Open In Colab\"/></a>"
      ]
    },
    {
      "cell_type": "code",
      "source": [
        "from collections import Counter\n",
        "\n",
        "def count_runs(trials):\n",
        "    counts, current_run = Counter(), 0\n",
        "    for trial in trials + [0]:\n",
        "        if trial:\n",
        "            current_run += 1\n",
        "        elif current_run:\n",
        "            counts[current_run] += 1\n",
        "            current_run = 0\n",
        "    return counts\n",
        "\n",
        "print(count_runs([0, 1, 0, 1, 1, 0, 0, 0, 0, 1]))\n",
        "\n",
        "import numpy as np\n",
        "random_trials = np.random.randint(0, 2, 10_000_000)\n",
        "print(count_runs(random_trials))"
      ],
      "metadata": {
        "colab": {
          "base_uri": "https://localhost:8080/"
        },
        "id": "_cqtAkXKNZt9",
        "outputId": "be2727d7-bacd-44b9-aa51-8532c49db1fc"
      },
      "execution_count": null,
      "outputs": [
        {
          "output_type": "stream",
          "name": "stdout",
          "text": [
            "Counter({1: 2, 2: 1})\n",
            "Counter({1: 1249644, 2: 624779, 3: 312482, 4: 156319, 5: 78312, 6: 39459, 7: 19392, 8: 9719, 9: 4903, 10: 2427, 11: 1160, 12: 589, 13: 299, 14: 149, 15: 72, 16: 28, 17: 20, 18: 15, 19: 7, 20: 3, 21: 1})\n"
          ]
        }
      ]
    },
    {
      "cell_type": "code",
      "source": [
        "import numpy as np\n",
        "\n",
        "def run_prob(expts, n, k, p):\n",
        "    success_count = 0\n",
        "\n",
        "    for _ in range(expts):\n",
        "        trials = np.random.choice([0, 1], size=n, p=[1-p, p])\n",
        "        counts = count_runs(trials)\n",
        "        if any(run_length >= k for run_length in counts.keys()):\n",
        "            success_count += 1\n",
        "\n",
        "    return success_count / expts\n",
        "\n",
        "from collections import Counter\n",
        "\n",
        "def count_runs(trials):\n",
        "    counts, current_run = Counter(), 0\n",
        "    for trial in trials + [0]:\n",
        "        if trial:\n",
        "            current_run += 1\n",
        "        elif current_run:\n",
        "            counts[current_run] += 1\n",
        "            current_run = 0\n",
        "    return counts\n",
        "\n",
        "prob1 = run_prob(expts=100000, n=100, k=5, p=0.5)\n",
        "prob2 = run_prob(expts=100000, n=100, k=7, p=0.7)\n",
        "\n",
        "print(prob1)\n",
        "print(prob2)"
      ],
      "metadata": {
        "colab": {
          "base_uri": "https://localhost:8080/"
        },
        "id": "gkLEYRSZOMCu",
        "outputId": "c0254e42-9095-4c08-b1a1-922f7ea8b54b"
      },
      "execution_count": null,
      "outputs": [
        {
          "output_type": "stream",
          "name": "stdout",
          "text": [
            "0.80489\n",
            "0.94232\n"
          ]
        }
      ]
    }
  ]
}